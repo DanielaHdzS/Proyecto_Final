{
 "cells": [
  {
   "cell_type": "markdown",
   "metadata": {},
   "source": [
    "# Informe de Solución\n",
    "\n",
    "## 1. ¿Qué pasos del plan se realizaron y qué pasos se omitieron?\n",
    "\n",
    "### Pasos Realizados:\n",
    "- **Revisión y Preparación de Datos**: Se realizó la carga y exploración inicial de los datos, incluyendo los archivos `contract.csv`, `personal.csv`, `internet.csv`, y `phone.csv`.\n",
    "- **Preprocesamiento**: Se realizo la imputación de valores faltantes, codificación de variables categóricas, y escalado de características numéricas.\n",
    "- **Visualización de datos**: Se construyeron varios graficos para el entendimiento de los datos, de igual forma para buscar insights que puedan aportar a la compañia.\n",
    "- **División de Datos**: Los datos fueron divididos en conjuntos de entrenamiento y prueba.\n",
    "- **Modelado**: Se entrenaron varios modelos de clasificación, incluyendo Regresión Logística, Árboles de Decisión, Bosques Aleatorios, KNN, y XGBoost.\n",
    "- **Evaluación**: Los modelos fueron evaluados utilizando métricas como precisión, recall, F1-score, AUC-ROC, entre otros.\n",
    "\n",
    "### Pasos Omitidos:\n",
    "- Considerar un analisis mas profundo de las caracteristicas antes de la modelización\n",
    "- Correlación de variables\n",
    "\n",
    "## 2. ¿Qué dificultades encontraste y cómo lograste resolverlas?\n",
    "\n",
    "- **Manejo de Datos Faltantes**: Se encontraron datos faltantes en los archivos CSV, los cuales fueron resueltos utilizando técnicas de imputación de valores.\n",
    "- **Desbalanceo de Clases**: Para manejar el desbalanceo en las clases, se consideró el uso de técnicas como sobremuestreo, submuestreo, o ajustes en los modelos.\n",
    "- **Carga Computacional**: Dado el peso computacional de algunos modelos, se realizaron ajustes en los hiperparámetros.\n",
    "\n",
    "## 3. ¿Cuáles fueron algunos de los pasos clave para resolver la tarea?\n",
    "\n",
    "- **Selección de Modelos**: La elección de varios modelos de clasificación, seguida de una comparación entre todos los modelos probados ayudo a identificar el modelo más adecuado.\n",
    "- **Validación**: La validación cruzada y la división de datos fueron esenciales para asegurar la robustez del modelo final.\n",
    "- **Ajuste de Hiperparámetros**: Los ajustes de hiperparámetros, realizados con técnicas como GridSearchCV o RandomizedSearchCV, fueron utilizados para mejorar la precisión del modelo.\n",
    "\n",
    "## 4. ¿Cuál es tu modelo final y qué nivel de calidad tiene?\n",
    "\n",
    "- **Modelo Final**: El modelo final seleccionado fue XGBoost, dado su rendimiento superior en las pruebas comparativas.\n",
    "- **Nivel de Calidad**: El modelo final alcanzó un F1-score= 0.971 y un AUC-ROC = 0.9078, demostrando ser una opción robusta para la tarea de clasificación.\n",
    "\n"
   ]
  }
 ],
 "metadata": {
  "kernelspec": {
   "display_name": "Python 3",
   "language": "python",
   "name": "python3"
  },
  "language_info": {
   "codemirror_mode": {
    "name": "ipython",
    "version": 3
   },
   "file_extension": ".py",
   "mimetype": "text/x-python",
   "name": "python",
   "nbconvert_exporter": "python",
   "pygments_lexer": "ipython3",
   "version": "3.12.0"
  }
 },
 "nbformat": 4,
 "nbformat_minor": 2
}
